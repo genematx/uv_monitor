{
 "cells": [
  {
   "cell_type": "markdown",
   "id": "18de1d96",
   "metadata": {},
   "source": [
    "# Demo of the Data Query with LangChain"
   ]
  },
  {
   "cell_type": "code",
   "execution_count": 1,
   "id": "3ca64761",
   "metadata": {},
   "outputs": [
    {
     "data": {
      "text/plain": [
       "True"
      ]
     },
     "execution_count": 1,
     "metadata": {},
     "output_type": "execute_result"
    }
   ],
   "source": [
    "%load_ext autoreload\n",
    "%autoreload 2\n",
    "%matplotlib inline\n",
    "\n",
    "import matplotlib.pyplot as plt\n",
    "import pandas as pd\n",
    "from langchain import OpenAI, SQLDatabase, SQLDatabaseChain\n",
    "\n",
    "from dotenv import load_dotenv\n",
    "import sqlite3\n",
    "load_dotenv()"
   ]
  },
  {
   "cell_type": "code",
   "execution_count": 7,
   "id": "8dd78a50",
   "metadata": {},
   "outputs": [
    {
     "name": "stdout",
     "output_type": "stream",
     "text": [
      "  loc_id  qc     azi    elev    zen   decl   amass  soldst  erythemal   \n",
      "0   CO11   0  210.21  3220.0  20.81  21.88  1.0693  1.0166   0.261240  \\\n",
      "1   CO11   0  198.28  3220.0  64.96 -22.37  2.3530  0.9855   0.036057   \n",
      "2   CO11   0  207.01  3220.0  65.12 -20.04  2.3669  0.9840   0.019909   \n",
      "3   NZ01   0   49.20   390.0  67.79   9.24  2.6307  1.0029   0.030049   \n",
      "4   NZ01   0  342.69   390.0  70.09  23.21  2.9149  1.0166   0.014459   \n",
      "\n",
      "         date             time  time_sec  time_diff_sec  intgr_erythemal   \n",
      "0  2018-07-12  12:57:00.000000     46620           60.0         15.67440  \\\n",
      "1  2020-12-04  13:09:00.000000     47340           60.0          2.16342   \n",
      "2  2019-01-20  14:02:00.000000     50520           60.0          1.19454   \n",
      "3  2006-04-14  09:42:00.000000     34920          180.0          5.40882   \n",
      "4  2020-06-29  13:57:00.000000     50220          180.0          2.60262   \n",
      "\n",
      "                      loc_name       lat         lon  \n",
      "0  Colorado,Steamboat Springs,  40.45509 -106.744491  \n",
      "1  Colorado,Steamboat Springs,  40.45509 -106.744491  \n",
      "2  Colorado,Steamboat Springs,  40.45509 -106.744491  \n",
      "3       New Zealand,Alexandra, -45.03850  169.681550  \n",
      "4       New Zealand,Alexandra, -45.03850  169.681550  \n"
     ]
    }
   ],
   "source": [
    "# create a connection to the SQLite database\n",
    "conn = sqlite3.connect('../data/uvb.db')\n",
    "\n",
    "# query the database using SQL\n",
    "query = \"SELECT * \\\n",
    "        FROM erythemal INNER JOIN locations \\\n",
    "        ON erythemal.loc_id = locations.loc_id \\\n",
    "        WHERE erythemal.loc_id IN ('CO11', 'NZ01') \\\n",
    "        ORDER BY RANDOM() \\\n",
    "        LIMIT 5\"\n",
    "\n",
    "# print the result\n",
    "result = pd.read_sql_query(query, conn)\n",
    "print(result)\n",
    "\n",
    "# close the database connection\n",
    "conn.close()"
   ]
  },
  {
   "cell_type": "code",
   "execution_count": 8,
   "id": "dcdd98bf",
   "metadata": {},
   "outputs": [
    {
     "name": "stdout",
     "output_type": "stream",
     "text": [
      "\n",
      "\n",
      "\u001b[1m> Entering new SQLDatabaseChain chain...\u001b[0m\n",
      "Which location has seen the highest total erythemal irradiance in March 2022? \n",
      "SQLQuery:\u001b[32;1m\u001b[1;3m SELECT loc_name, SUM(intgr_erythemal) AS total_erythemal FROM erythemal JOIN locations ON erythemal.loc_id = locations.loc_id WHERE date BETWEEN '2022-03-01' AND '2022-03-31' GROUP BY loc_name ORDER BY total_erythemal DESC LIMIT 5;\u001b[0m\n",
      "SQLResult: \u001b[33;1m\u001b[1;3m[('Hawaii,Waimea,Mauna Loa', 181407.4488557997), ('Louisiana,Baton Rouge', 98985.01551299995), ('New Mexico,Las Cruces', 97343.29793880021), ('Florida,Homestead', 90216.18464400046), ('Texas,Seguin', 89317.40853059999)]\u001b[0m\n",
      "Answer:\u001b[32;1m\u001b[1;3m The location with the highest total erythemal irradiance in March 2022 is Hawaii,Waimea,Mauna Loa.\u001b[0m\n",
      "\u001b[1m> Finished chain.\u001b[0m\n"
     ]
    },
    {
     "data": {
      "text/plain": [
       "' The location with the highest total erythemal irradiance in March 2022 is Hawaii,Waimea,Mauna Loa.'"
      ]
     },
     "execution_count": 8,
     "metadata": {},
     "output_type": "execute_result"
    }
   ],
   "source": [
    "db = SQLDatabase.from_uri(\"sqlite:///../data/uvb.db\")\n",
    "llm = OpenAI(temperature=0)\n",
    "db_chain = SQLDatabaseChain(llm=llm, database=db, verbose=True)\n",
    "db_chain.run(\"Which location has seen the highest total erythemal irradiance in March 2022?\")"
   ]
  },
  {
   "cell_type": "code",
   "execution_count": 9,
   "id": "e9a11732",
   "metadata": {},
   "outputs": [
    {
     "name": "stdout",
     "output_type": "stream",
     "text": [
      "\n",
      "\n",
      "\u001b[1m> Entering new SQLDatabaseChain chain...\u001b[0m\n",
      "Across all locations in Colorado, what was the sunniest day in March 2022? \n",
      "SQLQuery:\u001b[32;1m\u001b[1;3m SELECT date, MAX(intgr_erythemal) FROM erythemal INNER JOIN locations ON erythemal.loc_id = locations.loc_id WHERE locations.loc_name LIKE '%Colorado%' AND date BETWEEN '2022-03-01' AND '2022-03-31' GROUP BY date ORDER BY MAX(intgr_erythemal) DESC LIMIT 5;\u001b[0m\n",
      "SQLResult: \u001b[33;1m\u001b[1;3m[('2022-03-16', 415.33884), ('2022-03-07', 106.2909), ('2022-03-11', 34.662384), ('2022-03-26', 34.3242), ('2022-03-28', 31.024800000000003)]\u001b[0m\n",
      "Answer:\u001b[32;1m\u001b[1;3m The sunniest day in March 2022 across all locations in Colorado was March 16th.\u001b[0m\n",
      "\u001b[1m> Finished chain.\u001b[0m\n"
     ]
    },
    {
     "data": {
      "text/plain": [
       "' The sunniest day in March 2022 across all locations in Colorado was March 16th.'"
      ]
     },
     "execution_count": 9,
     "metadata": {},
     "output_type": "execute_result"
    }
   ],
   "source": [
    "db_chain.run(\"Across all locations in Colorado, what was the sunniest day in March 2022?\")"
   ]
  },
  {
   "cell_type": "code",
   "execution_count": 10,
   "id": "d0f055a1",
   "metadata": {},
   "outputs": [
    {
     "name": "stdout",
     "output_type": "stream",
     "text": [
      "\n",
      "\n",
      "\u001b[1m> Entering new SQLDatabaseChain chain...\u001b[0m\n",
      "Which location to the west of Colorado has the heighest elevation? \n",
      "SQLQuery:\u001b[32;1m\u001b[1;3m SELECT loc_name, lat, lon, elev FROM locations WHERE lon < -106.744491 ORDER BY elev DESC LIMIT 5;\u001b[0m\n",
      "SQLResult: \u001b[33;1m\u001b[1;3m[('Hawaii,Waimea,Mauna Loa', 19.536161, -155.576261, 3409.0), ('Arizona,Flagstaff', 36.059, -112.184, 2073.0), ('Utah,Logan', 41.667, -111.892, 1369.0), ('Washington,Pullman', 46.76, -117.192, 805.0), ('Alaska,Fairbanks', 65.118467, -147.432315, 509.0)]\u001b[0m\n",
      "Answer:\u001b[32;1m\u001b[1;3m The location to the west of Colorado with the highest elevation is Hawaii,Waimea,Mauna Loa with an elevation of 3409.0.\u001b[0m\n",
      "\u001b[1m> Finished chain.\u001b[0m\n"
     ]
    },
    {
     "data": {
      "text/plain": [
       "' The location to the west of Colorado with the highest elevation is Hawaii,Waimea,Mauna Loa with an elevation of 3409.0.'"
      ]
     },
     "execution_count": 10,
     "metadata": {},
     "output_type": "execute_result"
    }
   ],
   "source": [
    "db_chain.run(\"Which location to the west of Colorado has the heighest elevation?\")"
   ]
  },
  {
   "cell_type": "code",
   "execution_count": null,
   "id": "a103f15f",
   "metadata": {},
   "outputs": [],
   "source": []
  }
 ],
 "metadata": {
  "kernelspec": {
   "display_name": "Python 3 (ipykernel)",
   "language": "python",
   "name": "python3"
  },
  "language_info": {
   "codemirror_mode": {
    "name": "ipython",
    "version": 3
   },
   "file_extension": ".py",
   "mimetype": "text/x-python",
   "name": "python",
   "nbconvert_exporter": "python",
   "pygments_lexer": "ipython3",
   "version": "3.11.1"
  }
 },
 "nbformat": 4,
 "nbformat_minor": 5
}
